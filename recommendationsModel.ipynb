{
 "cells": [
  {
   "cell_type": "code",
   "execution_count": null,
   "metadata": {},
   "outputs": [],
   "source": [
    "import pandas as pd\n",
    "import numpy as np"
   ]
  },
  {
   "cell_type": "code",
   "execution_count": null,
   "metadata": {},
   "outputs": [],
   "source": [
    "board_games = pd.read_csv('dump/app_boardgame.csv')\n",
    "\n",
    "categories = pd.read_csv('dump/app_category.csv')\n",
    "categories_fk = pd.read_csv('dump/app_boardgamecategory.csv')\n",
    "\n",
    "mechanics = pd.read_csv('dump/app_mechanic.csv')\n",
    "mechanics_fk = pd.read_csv('dump/app_boardgamemechanic.csv')"
   ]
  },
  {
   "cell_type": "code",
   "execution_count": null,
   "metadata": {},
   "outputs": [],
   "source": [
    "all_tables = [\n",
    "    board_games,\n",
    "    categories,\n",
    "    categories_fk,\n",
    "    mechanics,\n",
    "    mechanics_fk,\n",
    "]\n",
    "\n",
    "for singular_table in all_tables:\n",
    "    singular_table.drop(columns=['updated_at', 'created_at'], inplace=True)\n",
    "\n",
    "board_games"
   ]
  },
  {
   "cell_type": "code",
   "execution_count": null,
   "metadata": {},
   "outputs": [],
   "source": [
    "board_games.drop(columns=['image_url', 'description', 'year_published'], inplace=True)"
   ]
  },
  {
   "cell_type": "code",
   "execution_count": null,
   "metadata": {},
   "outputs": [],
   "source": [
    "for index in categories_fk.index:\n",
    "    cat_connection = categories.loc[categories['id'] == categories_fk.loc[index, 'category_id']]\n",
    "    categories_fk.loc[index, 'category_id'] = cat_connection['name'].iloc[0]\n",
    "\n",
    "categories_fk"
   ]
  },
  {
   "cell_type": "code",
   "execution_count": null,
   "metadata": {},
   "outputs": [],
   "source": [
    "for index in mechanics_fk.index:\n",
    "    mech_connection = mechanics.loc[mechanics['id'] == mechanics_fk.loc[index, 'mechanic_id']]\n",
    "    mechanics_fk.loc[index, 'mechanic_id'] = mech_connection['name'].iloc[0]\n",
    "\n",
    "mechanics_fk"
   ]
  },
  {
   "cell_type": "code",
   "execution_count": null,
   "metadata": {},
   "outputs": [],
   "source": [
    "all_categories = [cat for cat in categories['name']]\n",
    "all_categories\n",
    "\n",
    "all_mechanics = [mech for mech in mechanics['name']]\n",
    "all_mechanics"
   ]
  },
  {
   "cell_type": "code",
   "execution_count": null,
   "metadata": {},
   "outputs": [],
   "source": [
    "for category in all_categories:\n",
    "    board_games[category] = 0\n",
    "\n",
    "for mechanic in all_mechanics:\n",
    "    board_games[mechanic] = 0\n",
    "\n",
    "column_max_vals = [\n",
    "    {'column': 'min_players', 'max_value': board_games['min_players'].max()},\n",
    "    {'column': 'max_players', 'max_value': board_games['max_players'].max()},\n",
    "    {'column': 'age', 'max_value': board_games['age'].max()},\n",
    "    {'column': 'min_playtime', 'max_value': board_games['min_playtime'].max()},\n",
    "    {'column': 'max_playtime', 'max_value': board_games['max_playtime'].max()},\n",
    "    {'column': 'rating', 'max_value': board_games['rating'].max()}\n",
    "]\n",
    "\n",
    "for index in board_games.index:\n",
    "    for element in column_max_vals:\n",
    "        board_games.loc[index, element['column']] = board_games.loc[index, element['column']] / element['max_value']\n",
    "\n",
    "board_games"
   ]
  },
  {
   "cell_type": "code",
   "execution_count": null,
   "metadata": {},
   "outputs": [],
   "source": [
    "for _, row in categories_fk.iterrows():\n",
    "    board_game_id = row['board_game_id']\n",
    "    category_name = row['category_id']\n",
    "\n",
    "    board_games.loc[board_games['id'] == board_game_id, category_name] = 1\n",
    "\n",
    "for _, row in mechanics_fk.iterrows():\n",
    "    board_game_id = row['board_game_id']\n",
    "    mechanic_name = row['mechanic_id']\n",
    "\n",
    "    board_games.loc[board_games['id'] == board_game_id, mechanic_name] = 1"
   ]
  },
  {
   "cell_type": "code",
   "execution_count": null,
   "metadata": {},
   "outputs": [],
   "source": [
    "board_games.drop(columns=['id', 'name'], inplace=True)"
   ]
  },
  {
   "cell_type": "code",
   "execution_count": null,
   "metadata": {},
   "outputs": [],
   "source": [
    "from sklearn.cluster import KMeans\n",
    "import seaborn as sns\n",
    "from sklearn.decomposition import PCA\n",
    "import matplotlib.pyplot as plt"
   ]
  },
  {
   "cell_type": "code",
   "execution_count": null,
   "metadata": {},
   "outputs": [],
   "source": [
    "recommendation_model = KMeans(n_clusters=5, verbose=1, random_state=1)\n",
    "\n",
    "clusters = pd.DataFrame()\n",
    "clusters['clusters'] = recommendation_model.fit_predict(board_games)"
   ]
  },
  {
   "cell_type": "code",
   "execution_count": null,
   "metadata": {},
   "outputs": [],
   "source": [
    "pca_num_components = 2\n",
    "\n",
    "reduced_data = PCA(n_components=pca_num_components).fit_transform(board_games)\n",
    "results = pd.DataFrame(reduced_data, columns=['pca1','pca2'])\n",
    "\n",
    "sns.scatterplot(x=\"pca1\", y=\"pca2\", hue=clusters['clusters'], data=results)\n",
    "plt.title('K-means Clustering with 2 dimensions')\n",
    "plt.show()"
   ]
  },
  {
   "cell_type": "code",
   "execution_count": null,
   "metadata": {},
   "outputs": [],
   "source": [
    "selected_game = board_games.loc[56454]\n",
    "selected_game = pd.DataFrame(selected_game).T\n",
    "recommendation_model.predict(selected_game)"
   ]
  },
  {
   "cell_type": "code",
   "execution_count": null,
   "metadata": {},
   "outputs": [],
   "source": [
    "import pickle\n",
    "\n",
    "filename = 'recommendation_model.sav'\n",
    "pickle.dump(recommendation_model, open(filename, 'wb'))"
   ]
  }
 ],
 "metadata": {
  "kernelspec": {
   "display_name": "talis-n4di60Si-py3.12",
   "language": "python",
   "name": "python3"
  },
  "language_info": {
   "codemirror_mode": {
    "name": "ipython",
    "version": 3
   },
   "file_extension": ".py",
   "mimetype": "text/x-python",
   "name": "python",
   "nbconvert_exporter": "python",
   "pygments_lexer": "ipython3",
   "version": "3.12.5"
  }
 },
 "nbformat": 4,
 "nbformat_minor": 2
}
